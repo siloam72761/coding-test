{
 "cells": [
  {
   "cell_type": "code",
   "execution_count": 1,
   "id": "9266cbf5-50c2-4f90-abec-9149b2a34a65",
   "metadata": {},
   "outputs": [
    {
     "name": "stdin",
     "output_type": "stream",
     "text": [
      " 1\n",
      " 5 3 6\n",
      " 0 2\n",
      " 1 2\n",
      " 2 2\n",
      " 3 2\n",
      " 4 2\n",
      " 4 0\n"
     ]
    },
    {
     "name": "stdout",
     "output_type": "stream",
     "text": [
      "2\n"
     ]
    }
   ],
   "source": [
    "import sys\n",
    "sys.setrecursionlimit(10000)  # 재귀 깊이 제한 늘리기\n",
    "\n",
    "def dfs(x, y):\n",
    "    if x < 0 or x >= M or y < 0 or y >= N:\n",
    "        return\n",
    "    if field[y][x] == 1:\n",
    "        field[y][x] = 0  # 방문 처리\n",
    "        dfs(x - 1, y)  # 왼쪽\n",
    "        dfs(x + 1, y)  # 오른쪽\n",
    "        dfs(x, y - 1)  # 위\n",
    "        dfs(x, y + 1)  # 아래\n",
    "\n",
    "T = int(input())\n",
    "\n",
    "for _ in range(T):\n",
    "    M, N, K = map(int, input().split())  # 가로, 세로, 배추 위치 개수\n",
    "    field = [[0] * M for _ in range(N)]  # 밭 초기화\n",
    "\n",
    "    for _ in range(K):\n",
    "        x, y = map(int, input().split())\n",
    "        field[y][x] = 1  # 배추 심기\n",
    "\n",
    "    count = 0\n",
    "    for i in range(N):\n",
    "        for j in range(M):\n",
    "            if field[i][j] == 1:\n",
    "                dfs(j, i)\n",
    "                count += 1\n",
    "\n",
    "    print(count)\n"
   ]
  },
  {
   "cell_type": "code",
   "execution_count": null,
   "id": "ccb252be-617f-42da-806a-5604329c9c81",
   "metadata": {},
   "outputs": [],
   "source": []
  }
 ],
 "metadata": {
  "kernelspec": {
   "display_name": "Python 3 (ipykernel)",
   "language": "python",
   "name": "python3"
  },
  "language_info": {
   "codemirror_mode": {
    "name": "ipython",
    "version": 3
   },
   "file_extension": ".py",
   "mimetype": "text/x-python",
   "name": "python",
   "nbconvert_exporter": "python",
   "pygments_lexer": "ipython3",
   "version": "3.13.3"
  }
 },
 "nbformat": 4,
 "nbformat_minor": 5
}
