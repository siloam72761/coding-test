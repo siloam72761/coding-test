{
 "cells": [
  {
   "cell_type": "code",
   "execution_count": 8,
   "id": "1f911512-ad22-411d-801c-326d53cfb64d",
   "metadata": {},
   "outputs": [
    {
     "name": "stdin",
     "output_type": "stream",
     "text": [
      " mississipi\n"
     ]
    },
    {
     "name": "stdout",
     "output_type": "stream",
     "text": [
      "[('I', 4), ('S', 4), ('M', 1), ('P', 1)]\n",
      "?\n"
     ]
    }
   ],
   "source": [
    "from collections import Counter\n",
    "\n",
    "word = input().upper()\n",
    "frequency = 0\n",
    "index = 0\n",
    "\n",
    "counter = Counter(word)\n",
    "most_common = counter.most_common()\n",
    "print(most_common)\n",
    "\n",
    "for i in range(len(most_common)):\n",
    "    if frequency < most_common[i][1]:\n",
    "        frequency = most_common[i][1]\n",
    "        index = i\n",
    "        \n",
    "    elif frequency == most_common[i][1]:\n",
    "        index = -1\n",
    "        break\n",
    "\n",
    "print(most_common[index][0]) if index >= 0 else print('?')\n",
    "\n",
    "\n",
    "\n",
    "\n",
    "\n"
   ]
  },
  {
   "cell_type": "code",
   "execution_count": null,
   "id": "9215c956-cf6e-4e7b-8ed3-52ad518ee139",
   "metadata": {},
   "outputs": [],
   "source": [
    "#개선코드\n",
    "from collections import Counter\n",
    "\n",
    "word = input().upper()\n",
    "counter = Counter(word)\n",
    "most_common = counter.most_common()\n",
    "\n",
    "## 최빈값이 2개 이상이고, 첫 번째와 두 번째 빈도 수가 같으면 ?\n",
    "if len(most_common) > 1 and most_common[0][1] == most_common[1][1]:\n",
    "    print('?')\n",
    "else:\n",
    "    print(most_common[0][0])"
   ]
  }
 ],
 "metadata": {
  "kernelspec": {
   "display_name": "Python 3 (ipykernel)",
   "language": "python",
   "name": "python3"
  },
  "language_info": {
   "codemirror_mode": {
    "name": "ipython",
    "version": 3
   },
   "file_extension": ".py",
   "mimetype": "text/x-python",
   "name": "python",
   "nbconvert_exporter": "python",
   "pygments_lexer": "ipython3",
   "version": "3.13.3"
  }
 },
 "nbformat": 4,
 "nbformat_minor": 5
}
