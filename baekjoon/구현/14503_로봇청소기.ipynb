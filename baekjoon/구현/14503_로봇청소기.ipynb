{
 "cells": [
  {
   "cell_type": "code",
   "execution_count": 10,
   "id": "1a6b78ff-edad-4712-a8a0-8cb086e6c4c9",
   "metadata": {},
   "outputs": [
    {
     "name": "stdin",
     "output_type": "stream",
     "text": [
      " 3 3\n",
      " 1 1 0\n",
      " 1 1 1\n",
      " 1 0 1\n",
      " 1 1 1\n"
     ]
    },
    {
     "name": "stdout",
     "output_type": "stream",
     "text": [
      "1\n"
     ]
    }
   ],
   "source": [
    "# 방의 크기\n",
    "N, M = map(int, input().split())\n",
    "\n",
    "# 로봇 초기 위치와 방향\n",
    "r, c, d = map(int, input().split())\n",
    "\n",
    "# 방의 상태 (0: 청소X, 1: 벽)\n",
    "room = [list(map(int, input().split())) for _ in range(N)]\n",
    "\n",
    "# 북 동 남 서 (시계 방향)\n",
    "dx = [-1, 0, 1, 0]\n",
    "dy = [0, 1, 0, -1]\n",
    "\n",
    "count = 0\n",
    "\n",
    "while True:\n",
    "    # 1. 현재 칸이 청소되지 않았으면 청소\n",
    "    if room[r][c] == 0:\n",
    "        room[r][c] = 2  # 청소 완료 표시 (1은 벽, 2는 청소된 공간)\n",
    "        count += 1\n",
    "\n",
    "    cleaned = False\n",
    "\n",
    "    # 2. 주변 4칸 확인\n",
    "    for _ in range(4):\n",
    "        # 반시계 회전\n",
    "        d = (d + 3) % 4\n",
    "        nx = r + dx[d]\n",
    "        ny = c + dy[d]\n",
    "\n",
    "        if 0 <= nx < N and 0 <= ny < M and room[nx][ny] == 0:\n",
    "            # 청소 안 된 곳이 있다면 이동\n",
    "            r, c = nx, ny\n",
    "            cleaned = True\n",
    "            break  # 1번부터 다시 시작\n",
    "\n",
    "    if cleaned:\n",
    "        continue\n",
    "\n",
    "    # 3. 후진 시도\n",
    "    back_d = (d + 2) % 4\n",
    "    bx = r + dx[back_d]\n",
    "    by = c + dy[back_d]\n",
    "\n",
    "    if 0 <= bx < N and 0 <= by < M and room[bx][by] != 1:\n",
    "        r, c = bx, by  # 후진\n",
    "    else:\n",
    "        break  # 후진도 못하면 작동 종료\n",
    "\n",
    "print(count)"
   ]
  },
  {
   "cell_type": "code",
   "execution_count": null,
   "id": "1e9cd907-f6d2-4b5f-b1c7-2e00fcab875f",
   "metadata": {},
   "outputs": [],
   "source": []
  },
  {
   "cell_type": "code",
   "execution_count": null,
   "id": "38e325ce-5a49-467c-b4a8-a0b637d6cb82",
   "metadata": {},
   "outputs": [],
   "source": []
  }
 ],
 "metadata": {
  "kernelspec": {
   "display_name": "Python 3 (ipykernel)",
   "language": "python",
   "name": "python3"
  },
  "language_info": {
   "codemirror_mode": {
    "name": "ipython",
    "version": 3
   },
   "file_extension": ".py",
   "mimetype": "text/x-python",
   "name": "python",
   "nbconvert_exporter": "python",
   "pygments_lexer": "ipython3",
   "version": "3.13.3"
  }
 },
 "nbformat": 4,
 "nbformat_minor": 5
}
