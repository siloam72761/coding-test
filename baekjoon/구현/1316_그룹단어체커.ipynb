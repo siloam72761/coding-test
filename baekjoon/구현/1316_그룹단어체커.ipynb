{
 "cells": [
  {
   "cell_type": "code",
   "execution_count": 1,
   "id": "d54ed666-1b91-404b-bef2-ddc87507ec6f",
   "metadata": {},
   "outputs": [
    {
     "name": "stdin",
     "output_type": "stream",
     "text": [
      " 3\n",
      " happpy\n",
      " new\n",
      " year\n"
     ]
    },
    {
     "name": "stdout",
     "output_type": "stream",
     "text": [
      "3\n"
     ]
    }
   ],
   "source": [
    "N = int(input())\n",
    "\n",
    "#그룹 단어 카운팅\n",
    "count = 0\n",
    "\n",
    "for _ in range(N):\n",
    "    word = input()\n",
    "    used_letters = []\n",
    "    is_group_word = True\n",
    "\n",
    "    prev_char = None\n",
    "\n",
    "    for char in word:\n",
    "        if char != prev_char:\n",
    "            if char in used_letters:\n",
    "                is_group_word = False\n",
    "                break\n",
    "            else:\n",
    "                used_letters.append(char)\n",
    "        prev_char = char\n",
    "\n",
    "    if is_group_word:\n",
    "        count += 1\n",
    "\n",
    "print(count)\n",
    "            \n"
   ]
  },
  {
   "cell_type": "code",
   "execution_count": 6,
   "id": "e3b8fb34-4b24-4508-8ec7-d944ef656b7a",
   "metadata": {},
   "outputs": [
    {
     "name": "stdin",
     "output_type": "stream",
     "text": [
      " 3\n",
      " happy\n",
      " new\n",
      " year\n"
     ]
    },
    {
     "name": "stdout",
     "output_type": "stream",
     "text": [
      "3\n"
     ]
    }
   ],
   "source": [
    "N = int(input())\n",
    "count = 0\n",
    "\n",
    "\n",
    "for _ in range(N):\n",
    "    word = input()\n",
    "    used_letters = set()\n",
    "    previous_char = None\n",
    "    is_group_word = True\n",
    "    \n",
    "    for char in word:\n",
    "        if char != previous_char:\n",
    "            if char in used_letters:\n",
    "                is_group_word = False\n",
    "                break\n",
    "            used_letters.add(char)\n",
    "        previous_char = char\n",
    "\n",
    "    if is_group_word:\n",
    "        count += 1\n",
    "\n",
    "print(count)\n",
    "            \n",
    "            "
   ]
  },
  {
   "cell_type": "code",
   "execution_count": null,
   "id": "88bc5a18-e967-449f-b7af-279f2300e6db",
   "metadata": {},
   "outputs": [],
   "source": []
  }
 ],
 "metadata": {
  "kernelspec": {
   "display_name": "Python 3 (ipykernel)",
   "language": "python",
   "name": "python3"
  },
  "language_info": {
   "codemirror_mode": {
    "name": "ipython",
    "version": 3
   },
   "file_extension": ".py",
   "mimetype": "text/x-python",
   "name": "python",
   "nbconvert_exporter": "python",
   "pygments_lexer": "ipython3",
   "version": "3.13.3"
  }
 },
 "nbformat": 4,
 "nbformat_minor": 5
}
