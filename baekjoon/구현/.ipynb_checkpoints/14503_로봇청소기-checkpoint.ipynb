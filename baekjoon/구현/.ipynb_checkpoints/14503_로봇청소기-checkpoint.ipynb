{
 "cells": [
  {
   "cell_type": "code",
   "execution_count": 9,
   "id": "1a6b78ff-edad-4712-a8a0-8cb086e6c4c9",
   "metadata": {},
   "outputs": [
    {
     "name": "stdin",
     "output_type": "stream",
     "text": [
      " 11 10 7 4 0 1 1 1 1 1 1 1 1 1 1 1 0 0 0 0 0 0 0 0 1 1 0 0 0 1 1 1 1 0 1 1 0 0 1 1 0 0 0 0 1 1 0 1 1 0 0 0 0 0 1 1 0 0 0 0 0 0 0 0 1 1 0 0 0 0 0 0 1 0 1 1 0 0 0 0 0 1 1 0 1 1 0 0 0 0 0 1 1 0 1 1 0 0 0 0 0 0 0 0 1 1 1 1 1 1 1 1 1 1 1\n"
     ]
    },
    {
     "ename": "ValueError",
     "evalue": "too many values to unpack (expected 2)",
     "output_type": "error",
     "traceback": [
      "\u001b[31m---------------------------------------------------------------------------\u001b[39m",
      "\u001b[31mValueError\u001b[39m                                Traceback (most recent call last)",
      "\u001b[36mCell\u001b[39m\u001b[36m \u001b[39m\u001b[32mIn[9]\u001b[39m\u001b[32m, line 2\u001b[39m\n\u001b[32m      1\u001b[39m \u001b[38;5;66;03m#방의 크기 ( N = 세로, M = 가로)\u001b[39;00m\n\u001b[32m----> \u001b[39m\u001b[32m2\u001b[39m N, M = \u001b[38;5;28mmap\u001b[39m(\u001b[38;5;28mint\u001b[39m, \u001b[38;5;28minput\u001b[39m().split())\n\u001b[32m      4\u001b[39m \u001b[38;5;66;03m#로봇의 초기 위치 (r,c) 방향 d\u001b[39;00m\n\u001b[32m      5\u001b[39m r,c,d = \u001b[38;5;28mmap\u001b[39m(\u001b[38;5;28mint\u001b[39m, \u001b[38;5;28minput\u001b[39m().split())\n",
      "\u001b[31mValueError\u001b[39m: too many values to unpack (expected 2)"
     ]
    }
   ],
   "source": [
    "#방의 크기 ( N = 세로, M = 가로)\n",
    "N, M = map(int, input().split())\n",
    "\n",
    "#로봇의 초기 위치 (r,c) 방향 d\n",
    "r,c,d = map(int, input().split())\n",
    "\n",
    "#방의 상태 ( 0 = 청소x , 1 = 청소o)\n",
    "room = [list(map(int, input().split())) for _ in range(N)]\n",
    "\n",
    "# 북,동,남,서 방향\n",
    "dx = [-1,0,1,0]\n",
    "dy = [0,1,0,-1]\n",
    "\n",
    "count = 0\n",
    "\n",
    "\n",
    "while True:\n",
    "    #1.현재 칸이 청소되어 있는지 확인\n",
    "    if room[r][c] == 0:\n",
    "        room[r][c] =1 #청소o로 변경\n",
    "        count = count + 1\n",
    "\n",
    "    #2 현재 칸의 주변 4칸 중 빈 칸이 없는 경우\n",
    "    if r+dx[d] >= 0 and r+dx[d] < N and c+dy[d] >= 0 and r+dy[d] < M: #후진 가능한지 확인\n",
    "        r = r +dx[d]\n",
    "        c = c +dy[d]\n",
    "\n",
    "    else:\n",
    "        break\n",
    "\n",
    "    \n",
    "    #3.현재 칸의 주변 4칸 중 청소되지 않은 빈 칸이 있는 경우\n",
    "    #주변 4칸 체크\n",
    "    for i in range(4): \n",
    "        if room[r+dx[i]][c+dy[i]] == 0:\n",
    "            #반시계 회전\n",
    "            d = (d+3)%4\n",
    "\n",
    "            #앞 쪽 칸이 청소되어 있지 않을 경우 전진\n",
    "            if room[r+dx[d]][c+dy[d]] == 0:\n",
    "                 r = r +dx[d]\n",
    "                 c = c +dy[d]\n",
    "            \n",
    "            continue #1번으로 돌아간다\n",
    "\n",
    "print(count)\n",
    "        "
   ]
  },
  {
   "cell_type": "code",
   "execution_count": null,
   "id": "1e9cd907-f6d2-4b5f-b1c7-2e00fcab875f",
   "metadata": {},
   "outputs": [],
   "source": []
  },
  {
   "cell_type": "code",
   "execution_count": null,
   "id": "38e325ce-5a49-467c-b4a8-a0b637d6cb82",
   "metadata": {},
   "outputs": [],
   "source": []
  }
 ],
 "metadata": {
  "kernelspec": {
   "display_name": "Python 3 (ipykernel)",
   "language": "python",
   "name": "python3"
  },
  "language_info": {
   "codemirror_mode": {
    "name": "ipython",
    "version": 3
   },
   "file_extension": ".py",
   "mimetype": "text/x-python",
   "name": "python",
   "nbconvert_exporter": "python",
   "pygments_lexer": "ipython3",
   "version": "3.13.3"
  }
 },
 "nbformat": 4,
 "nbformat_minor": 5
}
