{
 "cells": [
  {
   "cell_type": "code",
   "execution_count": 3,
   "id": "adec1bff-ffff-4eed-ab7e-ee60595b9592",
   "metadata": {},
   "outputs": [
    {
     "name": "stdin",
     "output_type": "stream",
     "text": [
      " ljes=njak\n"
     ]
    },
    {
     "name": "stdout",
     "output_type": "stream",
     "text": [
      "6\n"
     ]
    }
   ],
   "source": [
    "word = input()\n",
    "\n",
    "alphabet = ['c=', 'c-', 'dz=' , 'd-' , 'lj', 'nj', 's=', 'z=']\n",
    "i = 0\n",
    "count = 0\n",
    "\n",
    "while i < len(word):\n",
    "\n",
    "    #3글자짜리 'dz=' 먼저 확인\n",
    "    if word[i:i+3] == 'dz=':\n",
    "        i += 3\n",
    "\n",
    "    elif word[i:i+2] in alphabet:\n",
    "        i += 2\n",
    "\n",
    "    else:\n",
    "        i += 1\n",
    "    count += 1\n",
    "\n",
    "print(count)\n",
    "    \n",
    "    "
   ]
  },
  {
   "cell_type": "code",
   "execution_count": null,
   "id": "54a01c7d-f8d5-4317-9d7e-398130680d7b",
   "metadata": {},
   "outputs": [],
   "source": []
  }
 ],
 "metadata": {
  "kernelspec": {
   "display_name": "Python 3 (ipykernel)",
   "language": "python",
   "name": "python3"
  },
  "language_info": {
   "codemirror_mode": {
    "name": "ipython",
    "version": 3
   },
   "file_extension": ".py",
   "mimetype": "text/x-python",
   "name": "python",
   "nbconvert_exporter": "python",
   "pygments_lexer": "ipython3",
   "version": "3.13.3"
  }
 },
 "nbformat": 4,
 "nbformat_minor": 5
}
