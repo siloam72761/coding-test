{
 "cells": [
  {
   "cell_type": "code",
   "execution_count": 37,
   "id": "1a3d279b-67fb-48df-a9ee-65b3421953a4",
   "metadata": {},
   "outputs": [
    {
     "name": "stdin",
     "output_type": "stream",
     "text": [
      " 5\n",
      " 6 9 5 7 4\n"
     ]
    },
    {
     "name": "stdout",
     "output_type": "stream",
     "text": [
      "0 0 2 2 4\n"
     ]
    }
   ],
   "source": [
    "#시간 복잡도 (O(n^2) TLE 코드\n",
    "\n",
    "N = int(input())\n",
    "tops = list(map(int, input().split()))\n",
    "signal = []\n",
    "\n",
    "for i in reversed(range(1,N)):\n",
    "    for j in reversed(range(i)):\n",
    "        if tops[j] > tops[i]:\n",
    "            signal.append(j+1)\n",
    "            break\n",
    "    else:\n",
    "        signal.append(0)\n",
    "\n",
    "\n",
    "#첫번째 탑은 항상 신호를 못 받으므로\n",
    "signal.append(0)\n",
    "\n",
    "signal.reverse()\n",
    "print(' '.join(map(str,signal)))\n",
    "\n",
    "\n",
    "\n",
    "    "
   ]
  },
  {
   "cell_type": "code",
   "execution_count": 36,
   "id": "04938b52-e678-4565-a297-c87098e460ba",
   "metadata": {},
   "outputs": [
    {
     "name": "stdin",
     "output_type": "stream",
     "text": [
      " 5\n",
      " 6 9 5 7 4\n"
     ]
    },
    {
     "name": "stdout",
     "output_type": "stream",
     "text": [
      "0 0 2 2 4\n"
     ]
    }
   ],
   "source": [
    "#개선 코드\n",
    "N = int(input())\n",
    "heights = list(map(int, input().split()))\n",
    "stack = []\n",
    "result = [0] * N\n",
    "\n",
    "for i in range(N):\n",
    "    #현재 탑보다 낮은 탑들은 스택에서 제거\n",
    "    while stack and stack[-1][1] < heights[i]:\n",
    "        stack. pop()\n",
    "\n",
    "    # 스택이 비어 있지 않으면 그 탑이 신호를 보낸다.\n",
    "    if stack:\n",
    "        result[i] = stack[-1][0] + 1\n",
    "\n",
    "    #현재 탑을 스택에 push\n",
    "    stack.append((i, heights[i]))\n",
    "\n",
    "print(' '.join(map(str,result)))\n",
    "    \n",
    "\n"
   ]
  },
  {
   "cell_type": "code",
   "execution_count": null,
   "id": "6734ff71-d5e8-4a72-af22-cd434bcbf301",
   "metadata": {},
   "outputs": [],
   "source": []
  }
 ],
 "metadata": {
  "kernelspec": {
   "display_name": "Python 3 (ipykernel)",
   "language": "python",
   "name": "python3"
  },
  "language_info": {
   "codemirror_mode": {
    "name": "ipython",
    "version": 3
   },
   "file_extension": ".py",
   "mimetype": "text/x-python",
   "name": "python",
   "nbconvert_exporter": "python",
   "pygments_lexer": "ipython3",
   "version": "3.13.3"
  }
 },
 "nbformat": 4,
 "nbformat_minor": 5
}
