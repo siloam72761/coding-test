{
 "cells": [
  {
   "cell_type": "code",
   "execution_count": 6,
   "id": "ea54df14-b683-43e2-baa3-8499441277cd",
   "metadata": {},
   "outputs": [
    {
     "name": "stdin",
     "output_type": "stream",
     "text": [
      " 5\n",
      " 6 3 2 10 -10\n",
      " 8\n",
      " 10 9 -5 2 3 4 5 -10\n"
     ]
    },
    {
     "name": "stdout",
     "output_type": "stream",
     "text": [
      "1 0 0 1 1 0 0 1\n"
     ]
    }
   ],
   "source": [
    "N = int(input())\n",
    "cards = set(map(int, input().split()))\n",
    "\n",
    "M = int(input())\n",
    "check_cards = list(map(int, input().split()))\n",
    "\n",
    "answer = []\n",
    "\n",
    "for num in check_cards:\n",
    "    answer.append('1' if num in cards else '0')\n",
    "\n",
    "print(' '.join(answer))"
   ]
  },
  {
   "cell_type": "code",
   "execution_count": null,
   "id": "1594fbb8-051f-4bb7-939b-a05e0c7d35f7",
   "metadata": {},
   "outputs": [],
   "source": []
  }
 ],
 "metadata": {
  "kernelspec": {
   "display_name": "Python 3 (ipykernel)",
   "language": "python",
   "name": "python3"
  },
  "language_info": {
   "codemirror_mode": {
    "name": "ipython",
    "version": 3
   },
   "file_extension": ".py",
   "mimetype": "text/x-python",
   "name": "python",
   "nbconvert_exporter": "python",
   "pygments_lexer": "ipython3",
   "version": "3.13.3"
  }
 },
 "nbformat": 4,
 "nbformat_minor": 5
}
