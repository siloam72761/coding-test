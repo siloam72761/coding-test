{
 "cells": [
  {
   "cell_type": "code",
   "execution_count": 4,
   "id": "f3546001-fe80-4585-b5fe-16f4a1d89be0",
   "metadata": {},
   "outputs": [
    {
     "name": "stdin",
     "output_type": "stream",
     "text": [
      " 6\n"
     ]
    },
    {
     "name": "stdout",
     "output_type": "stream",
     "text": [
      "4\n"
     ]
    }
   ],
   "source": [
    "from collections import deque\n",
    "\n",
    "N = int(input())\n",
    "queue = deque(range(1, N+1))\n",
    "\n",
    "while len(queue) > 1 :\n",
    "    queue.popleft()\n",
    "    queue.append(queue.popleft())\n",
    "    \n",
    "print(queue[0])"
   ]
  },
  {
   "cell_type": "code",
   "execution_count": 5,
   "id": "46c23acf-a37b-43bc-b68b-86c6d9332762",
   "metadata": {},
   "outputs": [
    {
     "name": "stdin",
     "output_type": "stream",
     "text": [
      " 6\n"
     ]
    },
    {
     "name": "stdout",
     "output_type": "stream",
     "text": [
      "4\n"
     ]
    }
   ],
   "source": [
    "N = int(input())\n",
    "\n",
    "power = 1\n",
    "while power * 2 <= N:\n",
    "    power *= 2\n",
    "\n",
    "print(2 * (N - power))"
   ]
  },
  {
   "cell_type": "code",
   "execution_count": null,
   "id": "f5c49925-d7ac-46d7-8479-1805594ed0b7",
   "metadata": {},
   "outputs": [],
   "source": []
  }
 ],
 "metadata": {
  "kernelspec": {
   "display_name": "Python 3 (ipykernel)",
   "language": "python",
   "name": "python3"
  },
  "language_info": {
   "codemirror_mode": {
    "name": "ipython",
    "version": 3
   },
   "file_extension": ".py",
   "mimetype": "text/x-python",
   "name": "python",
   "nbconvert_exporter": "python",
   "pygments_lexer": "ipython3",
   "version": "3.13.3"
  }
 },
 "nbformat": 4,
 "nbformat_minor": 5
}
