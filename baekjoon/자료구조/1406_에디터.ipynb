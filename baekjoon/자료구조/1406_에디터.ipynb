{
 "cells": [
  {
   "cell_type": "code",
   "execution_count": 4,
   "id": "921cee98-ddb3-4a8a-b1dd-55685133e2e2",
   "metadata": {},
   "outputs": [
    {
     "name": "stdin",
     "output_type": "stream",
     "text": [
      " abcd\n",
      " 3\n",
      " P x\n",
      " L\n",
      " P y\n"
     ]
    },
    {
     "name": "stdout",
     "output_type": "stream",
     "text": [
      "abcdyx\n"
     ]
    }
   ],
   "source": [
    "import sys\n",
    "\n",
    "stack_l = list(input())\n",
    "stack_r = []\n",
    "N = int(input())\n",
    "\n",
    "for i in range(N):\n",
    "    command = input().split()\n",
    "\n",
    "    if command[0] == 'L' and stack_l:\n",
    "        stack_r.append(stack_l.pop())\n",
    "    elif command[0] == 'D' and stack_r:\n",
    "        stack_l.append(stack_r.pop())\n",
    "    elif command[0] == 'B' and stack_l:\n",
    "        stack_l.pop()\n",
    "    elif command[0] == 'P' and len(command) > 1:\n",
    "        stack_l.append(command[1])\n",
    "    \n",
    "print(\"\".join(stack_l + list(reversed(stack_r))))\n"
   ]
  },
  {
   "cell_type": "code",
   "execution_count": 1,
   "id": "ec7dbbc8-f931-4c80-b002-42b2fc820720",
   "metadata": {},
   "outputs": [
    {
     "name": "stdin",
     "output_type": "stream",
     "text": [
      " abcd\n"
     ]
    },
    {
     "name": "stdout",
     "output_type": "stream",
     "text": [
      "d\n"
     ]
    }
   ],
   "source": []
  },
  {
   "cell_type": "code",
   "execution_count": null,
   "id": "d867e727-35ac-4b38-911e-7cf3fe7cd4e5",
   "metadata": {},
   "outputs": [],
   "source": []
  }
 ],
 "metadata": {
  "kernelspec": {
   "display_name": "Python 3 (ipykernel)",
   "language": "python",
   "name": "python3"
  },
  "language_info": {
   "codemirror_mode": {
    "name": "ipython",
    "version": 3
   },
   "file_extension": ".py",
   "mimetype": "text/x-python",
   "name": "python",
   "nbconvert_exporter": "python",
   "pygments_lexer": "ipython3",
   "version": "3.13.3"
  }
 },
 "nbformat": 4,
 "nbformat_minor": 5
}
