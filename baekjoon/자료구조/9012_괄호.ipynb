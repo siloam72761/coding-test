{
 "cells": [
  {
   "cell_type": "code",
   "execution_count": 2,
   "id": "7d0af8bc-cc64-42f6-bd06-99f9d0c26695",
   "metadata": {},
   "outputs": [
    {
     "name": "stdin",
     "output_type": "stream",
     "text": [
      " 3\n",
      " ((\n",
      " ))\n",
      " ())(()\n"
     ]
    },
    {
     "name": "stdout",
     "output_type": "stream",
     "text": [
      "NO\n",
      "NO\n",
      "NO\n"
     ]
    }
   ],
   "source": [
    "def is_vps(p):\n",
    "    stack = []\n",
    "    \n",
    "    for char in p:\n",
    "        if char == '(':\n",
    "            stack.append(char)\n",
    "        else:\n",
    "            if not stack:\n",
    "                return \"NO\"\n",
    "            stack.pop()\n",
    "     \n",
    "    return \"YES\" if not stack else \"NO\"\n",
    "\n",
    "stack = []\n",
    "T = int(input())\n",
    "Ps = [input().strip() for _ in range(T)]\n",
    "\n",
    "for p in Ps:\n",
    "    print(is_vps(p))\n",
    "    \n"
   ]
  },
  {
   "cell_type": "code",
   "execution_count": null,
   "id": "24e5b65a-791f-4ad7-bd5f-ffdfc159aa49",
   "metadata": {},
   "outputs": [],
   "source": []
  }
 ],
 "metadata": {
  "kernelspec": {
   "display_name": "Python 3 (ipykernel)",
   "language": "python",
   "name": "python3"
  },
  "language_info": {
   "codemirror_mode": {
    "name": "ipython",
    "version": 3
   },
   "file_extension": ".py",
   "mimetype": "text/x-python",
   "name": "python",
   "nbconvert_exporter": "python",
   "pygments_lexer": "ipython3",
   "version": "3.13.3"
  }
 },
 "nbformat": 4,
 "nbformat_minor": 5
}
