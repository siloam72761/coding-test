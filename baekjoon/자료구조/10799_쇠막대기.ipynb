{
 "cells": [
  {
   "cell_type": "code",
   "execution_count": 4,
   "id": "c2130854-20fc-4de8-9f0d-dbe5b6467303",
   "metadata": {},
   "outputs": [
    {
     "name": "stdin",
     "output_type": "stream",
     "text": [
      " ()(((()())(())()))(())\n"
     ]
    },
    {
     "name": "stdout",
     "output_type": "stream",
     "text": [
      "17\n"
     ]
    }
   ],
   "source": [
    "N = input()\n",
    "\n",
    "stack = []\n",
    "cnt = 0\n",
    "\n",
    "for i in range(len(N)):\n",
    "    if N[i] == '(':\n",
    "        stack.append('(')\n",
    "    #)가 들어 왔을 때\n",
    "    else:\n",
    "        if N[i-1] == '(':\n",
    "            stack.pop()\n",
    "            cnt += len(stack)\n",
    "        else:\n",
    "            stack.pop()\n",
    "            cnt +=1\n",
    "print(cnt)"
   ]
  },
  {
   "cell_type": "code",
   "execution_count": null,
   "id": "827f64d4-3ce8-435f-bde8-334bad0c4c4f",
   "metadata": {},
   "outputs": [],
   "source": []
  }
 ],
 "metadata": {
  "kernelspec": {
   "display_name": "Python 3 (ipykernel)",
   "language": "python",
   "name": "python3"
  },
  "language_info": {
   "codemirror_mode": {
    "name": "ipython",
    "version": 3
   },
   "file_extension": ".py",
   "mimetype": "text/x-python",
   "name": "python",
   "nbconvert_exporter": "python",
   "pygments_lexer": "ipython3",
   "version": "3.13.3"
  }
 },
 "nbformat": 4,
 "nbformat_minor": 5
}
