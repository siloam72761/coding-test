{
 "cells": [
  {
   "cell_type": "code",
   "execution_count": 1,
   "id": "8e62484d-091b-473a-836e-a7f5aa6c728b",
   "metadata": {},
   "outputs": [
    {
     "name": "stdin",
     "output_type": "stream",
     "text": [
      " 3\n",
      " 1 0\n",
      " 5\n"
     ]
    },
    {
     "name": "stdout",
     "output_type": "stream",
     "text": [
      "1\n"
     ]
    },
    {
     "name": "stdin",
     "output_type": "stream",
     "text": [
      " 4 2\n",
      " 1 2 3 4\n"
     ]
    },
    {
     "name": "stdout",
     "output_type": "stream",
     "text": [
      "2\n"
     ]
    },
    {
     "name": "stdin",
     "output_type": "stream",
     "text": [
      " 6 0\n",
      " 1 1 9 1 1 1\n"
     ]
    },
    {
     "name": "stdout",
     "output_type": "stream",
     "text": [
      "5\n"
     ]
    }
   ],
   "source": [
    "from collections import deque\n",
    "\n",
    "T = int(input())\n",
    "\n",
    "for _ in range(T):\n",
    "    N, M = map(int, input().split())\n",
    "    priority = list(map(int, input().split()))\n",
    "    queue = deque(priority)\n",
    "    \n",
    "    idx = M\n",
    "    order = 0\n",
    "\n",
    "    while True:\n",
    "        if queue[0] == max(queue):\n",
    "            queue.popleft()\n",
    "            order += 1\n",
    "            if idx == 0:\n",
    "                print(order)\n",
    "                break\n",
    "            else:\n",
    "                idx -= 1\n",
    "        else:\n",
    "            queue.append(queue.popleft())\n",
    "            idx = idx -1 if idx > 0 else len(queue) -1\n",
    "        \n",
    "    \n",
    "\n",
    "            "
   ]
  },
  {
   "cell_type": "code",
   "execution_count": 3,
   "id": "027f6f3a-c715-49f9-9002-0612e29750e0",
   "metadata": {},
   "outputs": [
    {
     "name": "stdin",
     "output_type": "stream",
     "text": [
      " 3\n",
      " 1 0\n",
      " 5\n"
     ]
    },
    {
     "name": "stdout",
     "output_type": "stream",
     "text": [
      "1\n"
     ]
    },
    {
     "name": "stdin",
     "output_type": "stream",
     "text": [
      " 4 2\n",
      " 1 2 3 4\n"
     ]
    },
    {
     "name": "stdout",
     "output_type": "stream",
     "text": [
      "2\n"
     ]
    },
    {
     "name": "stdin",
     "output_type": "stream",
     "text": [
      " 6 0\n",
      " 1 1 9 1 1 1\n"
     ]
    },
    {
     "name": "stdout",
     "output_type": "stream",
     "text": [
      "5\n"
     ]
    }
   ],
   "source": [
    "from collections import deque\n",
    "\n",
    "T = int(input())\n",
    "\n",
    "for _ in range(T):\n",
    "    N, M = map(int, input().split())  # 문서 개수, 찾을 문서의 위치\n",
    "    priorities = list(map(int, input().split()))\n",
    "    queue = deque([(i,p) for i,p in enumerate(priorities)])\n",
    "    order = 0\n",
    "\n",
    "    while queue:\n",
    "        current = queue.popleft()\n",
    "\n",
    "        #현재 문서보다 더 높은 우선 순위에 있으면 뒤로 보냄\n",
    "        if any(current[1] < doc[1] for doc in queue):\n",
    "            queue.append(current)\n",
    "        else:\n",
    "            order += 1\n",
    "            if current[0] == M:\n",
    "                print(order)\n",
    "                break"
   ]
  },
  {
   "cell_type": "code",
   "execution_count": null,
   "id": "f9480bf3-ea89-46a6-b6aa-a5280289d5e7",
   "metadata": {},
   "outputs": [],
   "source": []
  }
 ],
 "metadata": {
  "kernelspec": {
   "display_name": "Python 3 (ipykernel)",
   "language": "python",
   "name": "python3"
  },
  "language_info": {
   "codemirror_mode": {
    "name": "ipython",
    "version": 3
   },
   "file_extension": ".py",
   "mimetype": "text/x-python",
   "name": "python",
   "nbconvert_exporter": "python",
   "pygments_lexer": "ipython3",
   "version": "3.13.3"
  }
 },
 "nbformat": 4,
 "nbformat_minor": 5
}
