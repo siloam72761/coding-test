{
 "cells": [
  {
   "cell_type": "code",
   "execution_count": null,
   "id": "dfcda67f-39e3-4669-ab22-8cac220f2139",
   "metadata": {},
   "outputs": [],
   "source": [
    "N = int(input())\n",
    "people = set()\n",
    "\n",
    "for _ in range(N):\n",
    "    name, status = input().split()\n",
    "    if status == \"enter\":\n",
    "        people.add(name)\n",
    "    else:\n",
    "        people.remove(name)\n",
    "\n",
    "for name in sorted(people, reverse=True):\n",
    "    print(name)"
   ]
  }
 ],
 "metadata": {
  "kernelspec": {
   "display_name": "Python 3 (ipykernel)",
   "language": "python",
   "name": "python3"
  },
  "language_info": {
   "codemirror_mode": {
    "name": "ipython",
    "version": 3
   },
   "file_extension": ".py",
   "mimetype": "text/x-python",
   "name": "python",
   "nbconvert_exporter": "python",
   "pygments_lexer": "ipython3",
   "version": "3.13.3"
  }
 },
 "nbformat": 4,
 "nbformat_minor": 5
}
