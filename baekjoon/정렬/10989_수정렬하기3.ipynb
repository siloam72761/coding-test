{
 "cells": [
  {
   "cell_type": "code",
   "execution_count": null,
   "id": "37d00d94-d862-456a-8292-e7a5912bfb36",
   "metadata": {},
   "outputs": [],
   "source": [
    "import sys\n",
    "\n",
    "N = int(input())\n",
    "count = [0] * 10001  # 입력 값은 1부터 10000까지\n",
    "\n",
    "for _ in range(N):\n",
    "    num = int(sys.stdin.readline())\n",
    "    count[num] += 1\n",
    "\n",
    "for i in range(1, 10001):\n",
    "    for _ in range(count[i]):\n",
    "        print(i)"
   ]
  }
 ],
 "metadata": {
  "kernelspec": {
   "display_name": "Python 3 (ipykernel)",
   "language": "python",
   "name": "python3"
  },
  "language_info": {
   "codemirror_mode": {
    "name": "ipython",
    "version": 3
   },
   "file_extension": ".py",
   "mimetype": "text/x-python",
   "name": "python",
   "nbconvert_exporter": "python",
   "pygments_lexer": "ipython3",
   "version": "3.13.3"
  }
 },
 "nbformat": 4,
 "nbformat_minor": 5
}
