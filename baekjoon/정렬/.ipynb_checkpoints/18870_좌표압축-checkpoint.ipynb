{
 "cells": [
  {
   "cell_type": "code",
   "execution_count": null,
   "id": "7931aea8-3012-4718-ae1e-5f5d43e4aa0c",
   "metadata": {},
   "outputs": [],
   "source": [
    "import sys\n",
    "\n",
    "input = sys.stdin.readline\n",
    "\n",
    "N = int(input())\n",
    "nums = list(map(int, input().split()))\n",
    "sorted_unique = sorted(set(nums))\n",
    "\n",
    "# 값: 인덱스 형태로 압축 좌표 맵핑\n",
    "coord_dict = {num: idx for idx, num in enumerate(sorted_unique)}\n",
    "\n",
    "# 원래 순서대로 출력\n",
    "print(' '.join(str(coord_dict[num]) for num in nums))"
   ]
  }
 ],
 "metadata": {
  "kernelspec": {
   "display_name": "Python 3 (ipykernel)",
   "language": "python",
   "name": "python3"
  },
  "language_info": {
   "codemirror_mode": {
    "name": "ipython",
    "version": 3
   },
   "file_extension": ".py",
   "mimetype": "text/x-python",
   "name": "python",
   "nbconvert_exporter": "python",
   "pygments_lexer": "ipython3",
   "version": "3.13.3"
  }
 },
 "nbformat": 4,
 "nbformat_minor": 5
}
