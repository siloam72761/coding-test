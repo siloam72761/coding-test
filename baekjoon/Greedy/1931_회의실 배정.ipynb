{
 "cells": [
  {
   "cell_type": "code",
   "execution_count": 16,
   "id": "4db0b99d-dcea-449a-9452-b30a8147164b",
   "metadata": {},
   "outputs": [
    {
     "name": "stdin",
     "output_type": "stream",
     "text": [
      " 11\n",
      " 1 4\n",
      " 3 5\n",
      " 0 6\n",
      " 5 7\n",
      " 3 8\n",
      " 5 9\n",
      " 6 10\n",
      " 8 11\n",
      " 8 12\n",
      " 2 13\n",
      " 12 14\n"
     ]
    },
    {
     "name": "stdout",
     "output_type": "stream",
     "text": [
      "4\n"
     ]
    }
   ],
   "source": [
    "N = int(input())\n",
    "\n",
    "#회의 시간은 바뀌면 안되므로 list 대신 tuple\n",
    "conference = [tuple(map(int, input().split())) for _ in range(N)]\n",
    "\n",
    "#회의 시간 종료를 기준으로 정렬\n",
    "conference.sort(key = lambda x:(x[1],x[0]))\n",
    "\n",
    "end = conference[0][1]\n",
    "count = 1\n",
    "\n",
    "for i in range(1, len(conference)):\n",
    "    start = conference[i][0]\n",
    "    if start >= end:\n",
    "        end = conference[i][1]\n",
    "        count += 1\n",
    "\n",
    "print(count)"
   ]
  },
  {
   "cell_type": "code",
   "execution_count": 17,
   "id": "13fc240c-39bd-4c6d-903b-fc02cc6709e9",
   "metadata": {},
   "outputs": [
    {
     "name": "stdin",
     "output_type": "stream",
     "text": [
      " 11\n",
      " 1 4\n",
      " 3 5\n",
      " 0 6\n",
      " 5 7\n",
      " 3 8\n",
      " 5 9\n",
      " 6 10\n",
      " 8 11\n",
      " 8 12\n",
      " 2 13\n",
      " 12 14\n"
     ]
    },
    {
     "name": "stdout",
     "output_type": "stream",
     "text": [
      "4\n"
     ]
    }
   ],
   "source": [
    "#개선 코드\n",
    "N = int(input())\n",
    "\n",
    "# 회의 시간은 바뀌면 안되므로 list 대신 tuple\n",
    "meetings = [tuple(map(int, input().split())) for _ in range(N)]\n",
    "\n",
    "# 종료 시간 기준 정렬, 종료시간 같으면 시작시간 오름차순\n",
    "meetings.sort(key=lambda x: (x[1], x[0]))\n",
    "\n",
    "count = 0\n",
    "end = 0  # 가장 빠른 가능한 시간\n",
    "\n",
    "for start, finish in meetings:\n",
    "    if start >= end:\n",
    "        end = finish\n",
    "        count += 1\n",
    "\n",
    "print(count)"
   ]
  },
  {
   "cell_type": "code",
   "execution_count": null,
   "id": "32bcd1d1-67dd-4b3e-8913-543e47ae2647",
   "metadata": {},
   "outputs": [],
   "source": []
  }
 ],
 "metadata": {
  "kernelspec": {
   "display_name": "Python 3 (ipykernel)",
   "language": "python",
   "name": "python3"
  },
  "language_info": {
   "codemirror_mode": {
    "name": "ipython",
    "version": 3
   },
   "file_extension": ".py",
   "mimetype": "text/x-python",
   "name": "python",
   "nbconvert_exporter": "python",
   "pygments_lexer": "ipython3",
   "version": "3.13.3"
  }
 },
 "nbformat": 4,
 "nbformat_minor": 5
}
