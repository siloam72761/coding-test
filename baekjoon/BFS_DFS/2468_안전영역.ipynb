{
 "cells": [
  {
   "cell_type": "code",
   "execution_count": 2,
   "id": "bed44d1f-9592-4efb-8a67-c6a5319f7197",
   "metadata": {},
   "outputs": [
    {
     "name": "stdin",
     "output_type": "stream",
     "text": [
      " 5\n",
      " 6 8 2 6 2\n",
      " 3 2 3 4 6\n",
      " 6 7 3 3 2\n",
      " 7 2 5 3 6\n",
      " 8 9 5 2 7\n"
     ]
    },
    {
     "name": "stdout",
     "output_type": "stream",
     "text": [
      "5\n"
     ]
    }
   ],
   "source": [
    "def dfs(x,y, h):\n",
    "\n",
    "    visited[x][y] = True\n",
    "    \n",
    "    dx = [0, 0, -1, 1]\n",
    "    dy = [1, -1, 0, 0]\n",
    "\n",
    "    for i in range(4):\n",
    "        nx = x + dx[i]\n",
    "        ny = y + dy[i]\n",
    "\n",
    "        if 0 <= nx < N and 0 <= ny < N:\n",
    "            if not visited[nx][ny] and graph[nx][ny] > h:\n",
    "                dfs(nx,ny,h)\n",
    "\n",
    "\n",
    "\n",
    "N = int(input().strip())\n",
    "graph = [list(map(int, input().split())) for _ in range(N)]\n",
    "\n",
    "#전체 높이의 최대값 찾기\n",
    "max_height = max(map(max,graph))\n",
    "\n",
    "answer = 0\n",
    "\n",
    "for h in range(max_height + 1):   # 0 ~ 최대 높이까지 모두 시도\n",
    "    visited = [[False] * N for _ in range(N)]\n",
    "    count = 0\n",
    "    for i in range(N):\n",
    "        for j in range(N):\n",
    "            if not visited[i][j] and graph[i][j] > h:\n",
    "                dfs(i, j, h)\n",
    "                count += 1\n",
    "    answer = max(answer, count)\n",
    "\n",
    "print(answer)"
   ]
  },
  {
   "cell_type": "code",
   "execution_count": null,
   "id": "4f67f1ad-4253-4676-b439-4e9202c7d0d0",
   "metadata": {},
   "outputs": [],
   "source": []
  }
 ],
 "metadata": {
  "kernelspec": {
   "display_name": "Python 3 (ipykernel)",
   "language": "python",
   "name": "python3"
  },
  "language_info": {
   "codemirror_mode": {
    "name": "ipython",
    "version": 3
   },
   "file_extension": ".py",
   "mimetype": "text/x-python",
   "name": "python",
   "nbconvert_exporter": "python",
   "pygments_lexer": "ipython3",
   "version": "3.13.3"
  }
 },
 "nbformat": 4,
 "nbformat_minor": 5
}
