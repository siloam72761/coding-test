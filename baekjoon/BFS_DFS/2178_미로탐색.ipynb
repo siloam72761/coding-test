{
 "cells": [
  {
   "cell_type": "code",
   "execution_count": 1,
   "id": "6c4d0261-2271-448e-8806-6f01c4cc0346",
   "metadata": {},
   "outputs": [
    {
     "name": "stdin",
     "output_type": "stream",
     "text": [
      " 4 6\n",
      " 101111\n",
      " 101010\n",
      " 101011\n",
      " 111011\n"
     ]
    },
    {
     "name": "stdout",
     "output_type": "stream",
     "text": [
      "15\n"
     ]
    }
   ],
   "source": [
    "from collections import deque\n",
    "\n",
    "dx = [-1, 1 , 0, 0]\n",
    "dy = [0, 0, -1, 1]\n",
    "\n",
    "queue = deque()\n",
    "queue.append((0,0))\n",
    "\n",
    "N, M = map(int, input().split())\n",
    "graph = [list(map(int, input().strip())) for _ in range(N)]\n",
    "\n",
    "while queue:\n",
    "    x, y = queue.popleft()\n",
    "    \n",
    "    for i in range(4):\n",
    "        nx = x + dx[i]\n",
    "        ny = y + dy[i]\n",
    "\n",
    "        if 0 <= nx < N and 0 <= ny < M:\n",
    "            #이동 가능한 길 & 방문 안했을 때\n",
    "            if graph[nx][ny] == 1:\n",
    "                graph[nx][ny] = graph[x][y] + 1\n",
    "                queue.append((nx,ny))\n",
    "\n",
    "print(graph[N-1][M-1])"
   ]
  },
  {
   "cell_type": "code",
   "execution_count": null,
   "id": "9996237d-7755-4542-b8d4-b97b4f405279",
   "metadata": {},
   "outputs": [],
   "source": []
  }
 ],
 "metadata": {
  "kernelspec": {
   "display_name": "Python 3 (ipykernel)",
   "language": "python",
   "name": "python3"
  },
  "language_info": {
   "codemirror_mode": {
    "name": "ipython",
    "version": 3
   },
   "file_extension": ".py",
   "mimetype": "text/x-python",
   "name": "python",
   "nbconvert_exporter": "python",
   "pygments_lexer": "ipython3",
   "version": "3.13.3"
  }
 },
 "nbformat": 4,
 "nbformat_minor": 5
}
