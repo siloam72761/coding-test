{
 "cells": [
  {
   "cell_type": "code",
   "execution_count": null,
   "id": "bed44d1f-9592-4efb-8a67-c6a5319f7197",
   "metadata": {},
   "outputs": [],
   "source": [
    "def dfs(x,y, N):\n",
    "\n",
    "    visited[x][y] = True\n",
    "    \n",
    "    dx = [0, 0, -1, 1]\n",
    "    dy = [1, -1, 0, 0]\n",
    "\n",
    "    for i in range(4):\n",
    "        nx = x + dx[i]\n",
    "        ny = y + dy[i]\n",
    "\n",
    "        if 0 <= nx < N and 0 <= ny < N:\n",
    "            if not visited[nx][ny] and graph[nx]ny] > N:\n",
    "            dfs(nx,ny,N)\n",
    "\n",
    "\n",
    "\n",
    "N = int(input().strip())\n",
    "graph = [list(map(int, input().split())) for _ in range(N)]\n",
    "visited = [[False] *N for _ in range(N)]\n",
    "\n",
    "\n",
    "count = 0 \n",
    "\n",
    "for i in range(N):\n",
    "    for j in range(N):\n",
    "        if not visited[i][j] and graph[i][j] > N:\n",
    "            dfs(j,i,N)\n",
    "            count += 1\n",
    "    \n"
   ]
  }
 ],
 "metadata": {
  "kernelspec": {
   "display_name": "Python 3 (ipykernel)",
   "language": "python",
   "name": "python3"
  },
  "language_info": {
   "codemirror_mode": {
    "name": "ipython",
    "version": 3
   },
   "file_extension": ".py",
   "mimetype": "text/x-python",
   "name": "python",
   "nbconvert_exporter": "python",
   "pygments_lexer": "ipython3",
   "version": "3.13.3"
  }
 },
 "nbformat": 4,
 "nbformat_minor": 5
}
