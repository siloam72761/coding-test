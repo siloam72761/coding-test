{
 "cells": [
  {
   "cell_type": "code",
   "execution_count": 2,
   "id": "93f1d396-397e-40c8-bfcb-441163f9e33b",
   "metadata": {},
   "outputs": [
    {
     "ename": "SyntaxError",
     "evalue": "invalid syntax (1164917671.py, line 1)",
     "output_type": "error",
     "traceback": [
      "  \u001b[36mCell\u001b[39m\u001b[36m \u001b[39m\u001b[32mIn[2]\u001b[39m\u001b[32m, line 1\u001b[39m\n\u001b[31m    \u001b[39m\u001b[31mdfs(graph, v, visited):\u001b[39m\n                          ^\n\u001b[31mSyntaxError\u001b[39m\u001b[31m:\u001b[39m invalid syntax\n"
     ]
    }
   ],
   "source": [
    "\n",
    "dfs(graph, v, visited):\n",
    "    visited[v] = True\n",
    "\n",
    "    for nxt in graph[v]:\n",
    "        if not visited[nxt]:\n",
    "            dfs(graph, nxt, visited)\n",
    "\n",
    "    return 1\n",
    "\n",
    "\n",
    "T = int(input())\n",
    "\n",
    "for _ in range(T):\n",
    "    N = int(input())\n",
    "    arr = list(map(int, input().split())) #순열 입력\n",
    "    \n",
    "    graph= [[] * N+1 for _ in range(N+1)]\n",
    "    for i in range(1, N+1):\n",
    "        graph[i].append(arr[i-1])\n",
    "\n",
    "visited = [False] * N+1\n",
    "count = 0\n",
    "\n",
    "for i in range(1, N+1):\n",
    "    count += dfs(graph, i, visited)\n",
    "\n",
    "print(count)"
   ]
  },
  {
   "cell_type": "code",
   "execution_count": null,
   "id": "69d0bd12-9ac6-4e5c-bb09-923d132e2013",
   "metadata": {},
   "outputs": [],
   "source": []
  }
 ],
 "metadata": {
  "kernelspec": {
   "display_name": "Python 3 (ipykernel)",
   "language": "python",
   "name": "python3"
  },
  "language_info": {
   "codemirror_mode": {
    "name": "ipython",
    "version": 3
   },
   "file_extension": ".py",
   "mimetype": "text/x-python",
   "name": "python",
   "nbconvert_exporter": "python",
   "pygments_lexer": "ipython3",
   "version": "3.13.3"
  }
 },
 "nbformat": 4,
 "nbformat_minor": 5
}
