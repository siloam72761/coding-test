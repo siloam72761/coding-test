{
 "cells": [
  {
   "cell_type": "code",
   "execution_count": 11,
   "id": "2adde107-ff5d-41ab-a4e8-eac653a4d549",
   "metadata": {},
   "outputs": [
    {
     "name": "stdin",
     "output_type": "stream",
     "text": [
      " 5\n",
      " RRRBB\n",
      " GGBBB\n",
      " BBBRR\n",
      " BBRRR\n",
      " RRRRR\n"
     ]
    },
    {
     "name": "stdout",
     "output_type": "stream",
     "text": [
      "4 3\n"
     ]
    }
   ],
   "source": [
    "import sys\n",
    "sys.setrecursionlimit(10**6)\n",
    "\n",
    "def dfs(graph, y, x, visited):\n",
    "    visited[y][x] = True\n",
    "    color = graph[y][x]\n",
    "    \n",
    "    dx = [0, 0 , -1, 1]\n",
    "    dy = [1, -1, 0, 0]\n",
    "\n",
    "    for i in range(4):\n",
    "        nx = x + dx[i]\n",
    "        ny = y + dy[i]\n",
    "\n",
    "        if 0<=nx<N and 0<=ny<N:\n",
    "            if not visited[ny][nx] and color == graph[ny][nx]:\n",
    "                dfs(graph, ny, nx, visited)\n",
    "\n",
    "    return 1\n",
    "\n",
    "N = int(input())\n",
    "\n",
    "graph = [list(input().strip()) for _ in range(N)]\n",
    "RGB_graph = [row[:] for row in graph]\n",
    "\n",
    "#R을 G로 변환하는 graph 생성\n",
    "for y in range(N):\n",
    "    for x in range(N):\n",
    "        if graph[y][x] == 'R':\n",
    "            RGB_graph[y][x] = 'G'\n",
    "\n",
    "visited = [[False] * N for _ in range(N)] \n",
    "RGB_visited = [[False] * N for _ in range(N)] \n",
    "\n",
    "count = 0\n",
    "RGB_count = 0\n",
    "\n",
    "for y in range(N):\n",
    "    for x in range(N):\n",
    "        if not visited[y][x]:\n",
    "            count += dfs(graph, y, x, visited)\n",
    "\n",
    "        if not RGB_visited[y][x]:\n",
    "            RGB_count += dfs(RGB_graph, y, x, RGB_visited)\n",
    "\n",
    "print(count, RGB_count)"
   ]
  },
  {
   "cell_type": "code",
   "execution_count": null,
   "id": "5e803101-2381-4ec0-981e-dfd251e9184c",
   "metadata": {},
   "outputs": [],
   "source": []
  }
 ],
 "metadata": {
  "kernelspec": {
   "display_name": "Python 3 (ipykernel)",
   "language": "python",
   "name": "python3"
  },
  "language_info": {
   "codemirror_mode": {
    "name": "ipython",
    "version": 3
   },
   "file_extension": ".py",
   "mimetype": "text/x-python",
   "name": "python",
   "nbconvert_exporter": "python",
   "pygments_lexer": "ipython3",
   "version": "3.13.3"
  }
 },
 "nbformat": 4,
 "nbformat_minor": 5
}
