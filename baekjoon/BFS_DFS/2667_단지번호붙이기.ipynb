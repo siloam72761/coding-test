{
 "cells": [
  {
   "cell_type": "code",
   "execution_count": 4,
   "id": "d5a02083-1477-486e-a0e8-43f08bcdd0cc",
   "metadata": {
    "scrolled": true
   },
   "outputs": [
    {
     "name": "stdin",
     "output_type": "stream",
     "text": [
      " 7\n",
      " 0110100\n",
      " 0110101\n",
      " 1110101\n",
      " 0000111\n",
      " 0100000\n",
      " 0111110\n",
      " 0111000\n"
     ]
    },
    {
     "name": "stdout",
     "output_type": "stream",
     "text": [
      "3\n",
      "7\n",
      "8\n",
      "9\n"
     ]
    }
   ],
   "source": [
    "import sys\n",
    "sys.setrecursionlimit(10000)\n",
    "\n",
    "\n",
    "N = int(input())\n",
    "graph = [list(map(int, input().strip())) for _ in range(N)]\n",
    "\n",
    "#상하좌우\n",
    "dx = [0, 0, -1, 1]\n",
    "dy = [1, -1, 0, 0]\n",
    "\n",
    "def dfs(x,y):\n",
    "    count = 1\n",
    "    graph[y][x] = 0 #방문 처리\n",
    "\n",
    "    for i in range(4):\n",
    "        nx = x + dx[i]\n",
    "        ny = y + dy[i]\n",
    "\n",
    "        if 0 <= nx < N and 0 <= ny < N and graph[ny][nx] == 1:\n",
    "            count += dfs(nx,ny)\n",
    "\n",
    "    return count\n",
    "\n",
    "result = []\n",
    "for y in range(N):\n",
    "    for x in range(N):\n",
    "        if graph[y][x] == 1:\n",
    "            result.append(dfs(x,y))\n",
    "\n",
    "result.sort()\n",
    "\n",
    "print(len(result)) #단지 수\n",
    "for r in result: \n",
    "    print(r)       #단지별 집 수\n",
    "\n",
    "    \n",
    "    "
   ]
  }
 ],
 "metadata": {
  "kernelspec": {
   "display_name": "Python 3 (ipykernel)",
   "language": "python",
   "name": "python3"
  },
  "language_info": {
   "codemirror_mode": {
    "name": "ipython",
    "version": 3
   },
   "file_extension": ".py",
   "mimetype": "text/x-python",
   "name": "python",
   "nbconvert_exporter": "python",
   "pygments_lexer": "ipython3",
   "version": "3.13.3"
  }
 },
 "nbformat": 4,
 "nbformat_minor": 5
}
