{
 "cells": [
  {
   "cell_type": "code",
   "execution_count": 6,
   "id": "3c2c7b37-904a-4493-9e61-03d9722e7281",
   "metadata": {
    "scrolled": true
   },
   "outputs": [
    {
     "name": "stdin",
     "output_type": "stream",
     "text": [
      " 4 2\n"
     ]
    },
    {
     "name": "stdout",
     "output_type": "stream",
     "text": [
      "1 2\n",
      "1 3\n",
      "1 4\n",
      "2 1\n",
      "2 3\n",
      "2 4\n",
      "3 1\n",
      "3 2\n",
      "3 4\n",
      "4 1\n",
      "4 2\n",
      "4 3\n"
     ]
    }
   ],
   "source": [
    "def dfs(depth):\n",
    "    if depth == M:\n",
    "        #M개 선택 완료\n",
    "        print(' '.join(map(str, path)))\n",
    "        return\n",
    "\n",
    "    for i in range(1, N+1):\n",
    "        if not visited[i]:\n",
    "            #방문 표시\n",
    "            visited[i] = True\n",
    "            path.append(i)\n",
    "\n",
    "            dfs(depth+1) #다음 깊이로\n",
    "\n",
    "            #백트래킹\n",
    "            visited[i] = False\n",
    "            path.pop()\n",
    "\n",
    "\n",
    "N, M = map(int, input().split())\n",
    "visited = [False] * (N + 1)\n",
    "path = []\n",
    "\n",
    "dfs(0)\n",
    "\n"
   ]
  },
  {
   "cell_type": "code",
   "execution_count": null,
   "id": "0710f76e-39e9-456d-ad00-1e58c3e7a32c",
   "metadata": {},
   "outputs": [],
   "source": [
    "\n"
   ]
  }
 ],
 "metadata": {
  "kernelspec": {
   "display_name": "Python 3 (ipykernel)",
   "language": "python",
   "name": "python3"
  },
  "language_info": {
   "codemirror_mode": {
    "name": "ipython",
    "version": 3
   },
   "file_extension": ".py",
   "mimetype": "text/x-python",
   "name": "python",
   "nbconvert_exporter": "python",
   "pygments_lexer": "ipython3",
   "version": "3.13.3"
  }
 },
 "nbformat": 4,
 "nbformat_minor": 5
}
