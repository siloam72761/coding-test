{
 "cells": [
  {
   "cell_type": "code",
   "execution_count": 15,
   "id": "233fcd1b-e193-43de-9d67-ce1e505feb6c",
   "metadata": {},
   "outputs": [
    {
     "name": "stdin",
     "output_type": "stream",
     "text": [
      " 4 2\n"
     ]
    },
    {
     "name": "stdout",
     "output_type": "stream",
     "text": [
      "1 1\n",
      "1 2\n",
      "1 3\n",
      "1 4\n",
      "2 1\n",
      "2 2\n",
      "2 3\n",
      "2 4\n",
      "3 1\n",
      "3 2\n",
      "3 3\n",
      "3 4\n",
      "4 1\n",
      "4 2\n",
      "4 3\n",
      "4 4\n"
     ]
    }
   ],
   "source": [
    "import sys\n",
    "sys.setrecursionlimit(10 * 6)\n",
    "\n",
    "\n",
    "def dfs(depth):\n",
    "    if depth == M:\n",
    "        print(' '.join(map(str, path)))\n",
    "        return\n",
    "\n",
    "    for i in range(1, N+1):\n",
    "            path.append(i)\n",
    "            dfs(depth+1)\n",
    "\n",
    "            path.pop()\n",
    "        \n",
    "    \n",
    "N, M = map(int, input().split())\n",
    "path = []\n",
    "              \n",
    "dfs(0)"
   ]
  },
  {
   "cell_type": "code",
   "execution_count": null,
   "id": "14256ae6-f280-4b37-b1c6-ab5136669fc6",
   "metadata": {},
   "outputs": [],
   "source": []
  }
 ],
 "metadata": {
  "kernelspec": {
   "display_name": "Python 3 (ipykernel)",
   "language": "python",
   "name": "python3"
  },
  "language_info": {
   "codemirror_mode": {
    "name": "ipython",
    "version": 3
   },
   "file_extension": ".py",
   "mimetype": "text/x-python",
   "name": "python",
   "nbconvert_exporter": "python",
   "pygments_lexer": "ipython3",
   "version": "3.13.3"
  }
 },
 "nbformat": 4,
 "nbformat_minor": 5
}
