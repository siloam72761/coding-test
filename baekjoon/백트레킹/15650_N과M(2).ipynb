{
 "cells": [
  {
   "cell_type": "code",
   "execution_count": 5,
   "id": "0a00a223-074a-4ecb-a52a-da2978d42c4b",
   "metadata": {},
   "outputs": [
    {
     "name": "stdin",
     "output_type": "stream",
     "text": [
      " 4 2\n"
     ]
    },
    {
     "name": "stdout",
     "output_type": "stream",
     "text": [
      "1 2\n",
      "1 3\n",
      "1 4\n",
      "2 3\n",
      "2 4\n",
      "3 4\n"
     ]
    }
   ],
   "source": [
    "def dfs(start, depth):\n",
    "    if depth == M:\n",
    "        print(' '.join(map(str, path)))\n",
    "        return\n",
    "    \n",
    "    for i in range(start, N+1):  # i는 항상 start 이상\n",
    "        path.append(i)\n",
    "        dfs(i+1, depth+1)  # 다음에는 i보다 큰 숫자만\n",
    "        path.pop()  # 백트래킹\n",
    "        \n",
    "\n",
    "N, M = map(int, input().split())\n",
    "path = []\n",
    "dfs(1, 0)\n"
   ]
  },
  {
   "cell_type": "code",
   "execution_count": null,
   "id": "e67a8e98-365d-4e5d-aae6-955dcb6ff90a",
   "metadata": {},
   "outputs": [],
   "source": []
  }
 ],
 "metadata": {
  "kernelspec": {
   "display_name": "Python 3 (ipykernel)",
   "language": "python",
   "name": "python3"
  },
  "language_info": {
   "codemirror_mode": {
    "name": "ipython",
    "version": 3
   },
   "file_extension": ".py",
   "mimetype": "text/x-python",
   "name": "python",
   "nbconvert_exporter": "python",
   "pygments_lexer": "ipython3",
   "version": "3.13.3"
  }
 },
 "nbformat": 4,
 "nbformat_minor": 5
}
