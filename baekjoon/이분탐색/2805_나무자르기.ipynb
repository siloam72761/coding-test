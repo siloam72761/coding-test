{
 "cells": [
  {
   "cell_type": "code",
   "execution_count": 3,
   "id": "08557ddf-7225-48ac-9033-e187582b0e1f",
   "metadata": {},
   "outputs": [
    {
     "name": "stdin",
     "output_type": "stream",
     "text": [
      " 4 7\n",
      " 20 15 10 17\n"
     ]
    },
    {
     "name": "stdout",
     "output_type": "stream",
     "text": [
      "15\n"
     ]
    }
   ],
   "source": [
    "def binary_search(trees, target, start, end):\n",
    "    \n",
    "    result = 0\n",
    "    \n",
    "    while start <= end:\n",
    "\n",
    "        mid = (start + end) // 2\n",
    "        total = 0\n",
    "        \n",
    "        #자른 나무 길이 계산\n",
    "        for tree in trees:\n",
    "            if tree > mid:\n",
    "                total += tree - mid\n",
    "\n",
    "        #자른 양이 충분하면 높이를 더 높임\n",
    "        if total >= target:\n",
    "            result = mid\n",
    "            start = mid + 1\n",
    "\n",
    "        else:\n",
    "            end = mid - 1\n",
    "\n",
    "    return result\n",
    "            \n",
    "N , M = map(int, input().split())\n",
    "trees = list(map(int, input().split()))\n",
    "\n",
    "answer = binary_search(trees, M, 0, max(trees))\n",
    "print(answer)\n"
   ]
  },
  {
   "cell_type": "code",
   "execution_count": null,
   "id": "74a91754-6d44-4926-a727-ad73ab6bd8e4",
   "metadata": {},
   "outputs": [],
   "source": []
  }
 ],
 "metadata": {
  "kernelspec": {
   "display_name": "Python 3 (ipykernel)",
   "language": "python",
   "name": "python3"
  },
  "language_info": {
   "codemirror_mode": {
    "name": "ipython",
    "version": 3
   },
   "file_extension": ".py",
   "mimetype": "text/x-python",
   "name": "python",
   "nbconvert_exporter": "python",
   "pygments_lexer": "ipython3",
   "version": "3.13.3"
  }
 },
 "nbformat": 4,
 "nbformat_minor": 5
}
